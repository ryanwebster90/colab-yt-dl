{
  "nbformat": 4,
  "nbformat_minor": 0,
  "metadata": {
    "colab": {
      "name": "dl_yt_playlist.ipynb",
      "provenance": [],
      "collapsed_sections": [],
      "mount_file_id": "1zQbiR0-wMmGKG9XyHUwb9s1A1-5O-IIY",
      "authorship_tag": "ABX9TyPjU3tPJIFuUHLqDH2wjzMv",
      "include_colab_link": true
    },
    "kernelspec": {
      "name": "python3",
      "display_name": "Python 3"
    }
  },
  "cells": [
    {
      "cell_type": "markdown",
      "metadata": {
        "id": "view-in-github",
        "colab_type": "text"
      },
      "source": [
        "<a href=\"https://colab.research.google.com/github/ryanwebster90/colab-yt-dl/blob/main/dl_yt_playlist.ipynb\" target=\"_parent\"><img src=\"https://colab.research.google.com/assets/colab-badge.svg\" alt=\"Open In Colab\"/></a>"
      ]
    },
    {
      "cell_type": "code",
      "metadata": {
        "id": "_0SXspzOm7kD"
      },
      "source": [
        "!pip install --upgrade youtube_dl\n",
        "!apt -y install ffmpeg lame"
      ],
      "execution_count": null,
      "outputs": []
    },
    {
      "cell_type": "code",
      "metadata": {
        "id": "W7bW6g_AwxfX"
      },
      "source": [
        "yt_urls = ['https://www.youtube.com/watch?v=g6-Wf79K_zE',\n",
        "           'https://www.youtube.com/watch?v=Mhi6Lb52ZbM']\n",
        "import os\n",
        "def my_mkdirs(folder):\n",
        "  if os.path.exists(folder)==False:\n",
        "    os.makedirs(folder)\n",
        "my_mkdirs('/content/tmp/')\n",
        "output_folder = '/content/drive/My Drive/music/ambient20/'\n",
        "my_mkdirs(output_folder)"
      ],
      "execution_count": null,
      "outputs": []
    },
    {
      "cell_type": "code",
      "metadata": {
        "id": "S2a09176Ni1w"
      },
      "source": [
        "# download youtube videos\n",
        "for ind,url in enumerate(yt_urls):\n",
        "  !youtube-dl $url -f 'bestaudio[ext=m4a]' -o 'tmp/%(title)s.m4a'\n",
        "# !youtube-dl https://www.youtube.com/watch?v=Mhi6Lb52ZbM -f 'bestaudio[ext=m4a]' -o tmp3.m4a"
      ],
      "execution_count": null,
      "outputs": []
    },
    {
      "cell_type": "code",
      "metadata": {
        "id": "bZgkWE2czE-o"
      },
      "source": [
        "import glob\n",
        "files = glob.glob('/content/tmp/*')\n",
        "for file in files:\n",
        "  out_file = f'{output_folder}{file[13:-3]}.mp3'\n",
        "  file = file.replace(' ','\\ ')\n",
        "  out_file = out_file.replace(' ','\\ ')\n",
        "  !ffmpeg -i $file -vn -ab 128k -ar 44100 -y $out_file"
      ],
      "execution_count": null,
      "outputs": []
    }
  ]
}